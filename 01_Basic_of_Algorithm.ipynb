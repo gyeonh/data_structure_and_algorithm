{
  "nbformat": 4,
  "nbformat_minor": 0,
  "metadata": {
    "colab": {
      "name": "01. Basic of Algorithm",
      "provenance": [],
      "toc_visible": true,
      "collapsed_sections": [
        "ENOauFfiMiEY",
        "_3SpjXIYU_fY",
        "UG8XRqpOWbVS",
        "ij7VpFKHxvA2",
        "KOSw9GX828gm",
        "o7BuiaiQvq61",
        "shL7pFmvxgkT",
        "l4r42Fgi2aRs",
        "QHNP7EpcJTd4",
        "Emgc3mg_LkZU",
        "491v8oPiN3Pq",
        "phSlhHWuTv_r"
      ],
      "authorship_tag": "ABX9TyOrRGnTj+zazTgMJdjbwQUJ"
    },
    "kernelspec": {
      "name": "python3",
      "display_name": "Python 3"
    },
    "language_info": {
      "name": "python"
    }
  },
  "cells": [
    {
      "cell_type": "markdown",
      "metadata": {
        "id": "f94R-ynjeMvF"
      },
      "source": [
        "#1.1 알고리즘이란?"
      ]
    },
    {
      "cell_type": "markdown",
      "metadata": {
        "id": "joK8h4zOegQ8"
      },
      "source": [
        "알고리즘 : 어떠한 문제를 해결하기 위해 정해 놓은 일련의 절차\n",
        "<br> **어떠한 경우에도 실행 결과가 똑같이 나오는 알고리즘** 을 올바른 알고리즘이라 한다."
      ]
    },
    {
      "cell_type": "markdown",
      "metadata": {
        "id": "vAEqmxoHkCZ1"
      },
      "source": [
        "* 세 정수의 최댓값 구하기"
      ]
    },
    {
      "cell_type": "code",
      "metadata": {
        "id": "SepUWbcxeQkv"
      },
      "source": [
        "# 실습 1-1\n",
        "# 세 정수의 최댓값 구하기\n",
        "\n",
        "print('세 정수의 최댓값 구하기')  \n",
        "\n",
        "a = int(input('정수 a의 값을 입력하세요.: '))\n",
        "b = int(input('정수 b의 값을 입력하세요.: '))\n",
        "c = int(input('정수 c의 값을 입력하세요.: '))\n",
        "\n",
        "max = a     # 첫번째 정수를 최댓값으로 지정\n",
        "if b > max: max = b     # 첫번째 정수와 두번째 정수를 비교하여 더 큰 수를 최댓값으로 새롭게 지정\n",
        "if c > max: max = c     # 두번째 정수와 세번째 정수 비교 후 더 큰 수를 최댓값으로 지정\n",
        "\n",
        "print(f'최댓값은 {max}입니다.')"
      ],
      "execution_count": null,
      "outputs": []
    },
    {
      "cell_type": "markdown",
      "metadata": {
        "id": "0l6hi78YgTwG"
      },
      "source": [
        "> 문자열 포맷팅(string formatting)\n",
        "<br> 문자열에서 특정부분만 바꾸고 싶을 때 사용한다.<br> \n",
        "`f'문자열{변수}문자열' 형태`\n",
        "\n"
      ]
    },
    {
      "cell_type": "markdown",
      "metadata": {
        "id": "YEWRbx0PjTuv"
      },
      "source": [
        "위의 코드처럼 한 문장씩 순서대로 처리되는 구조를 **'순차 구조(sequential structure)'**라고 하며,\n",
        "<br> 조건식으로 평가한 결과에 따라 프로그램의 실행 흐름이 변경되는 구조를 **'선택 구조(select structure)'**라고 한다."
      ]
    },
    {
      "cell_type": "markdown",
      "metadata": {
        "id": "SUzpNRL4kljM"
      },
      "source": [
        "(보충 1-1) 문자열과 숫자 입력받기"
      ]
    },
    {
      "cell_type": "code",
      "metadata": {
        "id": "A_CT-QoqfqsY"
      },
      "source": [
        "# 실습 1C-1\n",
        "# 이름을 입력받아 인사하기\n",
        "\n",
        "#print('이름을 입력하세요.: ', end='')\n",
        "#name = input()\n",
        "name = input('이름을 입력하세요.: ')        # 위의 두 줄을 간단하게 한 줄로 적을 수 있다.\n",
        "\n",
        "print(f'안녕하세요 {name} 님.')"
      ],
      "execution_count": null,
      "outputs": []
    },
    {
      "cell_type": "code",
      "metadata": {
        "id": "R3P14SABl3nt"
      },
      "source": [
        "print(int('17'))            # 10진수 문자열을 10진수 정수형으로 변환\n",
        "print(int('0b110', 2))      # 2진수 문자열을 10진수 정수형으로 변환\n",
        "print(int('0o75', 8))       # 8진수 문자열을 10진수 정수형으로 변환\n",
        "print(int('13', 10))        # 10진수 문자열을 10진수 정수형으로 변환\n",
        "print(int('0x3F', 16))      # 16진수 문자열을 10진수 정수형으로 변환\n",
        "float('3.14')       # 문자형을 실수형으로 변환"
      ],
      "execution_count": null,
      "outputs": []
    },
    {
      "cell_type": "markdown",
      "metadata": {
        "id": "tSj-8ZMOpOQK"
      },
      "source": [
        ">int() 함수\n",
        "<br>문자열을 10진수 정수형을 반환한다.<br> \n",
        "`int('숫자', 진수) 형태`\n"
      ]
    },
    {
      "cell_type": "markdown",
      "metadata": {
        "id": "BkBKn_XWqkKL"
      },
      "source": [
        "> 부동소수점(floating point)\n",
        "<br> - 컴퓨터에서 실수를 근삿값으로 표현할 때 사용\n",
        "<br> - 실수를 가수 부분(유효숫자)과 지수 부분(소수점의 위치)으로 나누어 표현하는 것\n",
        "<br> https://handhp1.tistory.com/9\n",
        "\n",
        "실제로 고정소수점보다 부동소수점이 더 많은 수를 표현할 수 있기 때문에 많이 사용된다."
      ]
    },
    {
      "cell_type": "code",
      "metadata": {
        "id": "f-n5V__ApZSB"
      },
      "source": [
        "# 실습 1-2\n",
        "# 세 정수의 최댓값 구하기\n",
        "\n",
        "def max3(a, b , c):\n",
        "    \"\"\"a, b , c의 최댓값을 구하여 반환\"\"\"       # 들여쓰기 안 할시, 오류 발생\n",
        "    max = a\n",
        "    if b > max: max = b\n",
        "    if c > max: max = c\n",
        "    return max\n",
        "\n",
        "print(f'max3(3, 2, 1) = {max3(3, 2, 1)}')   # [A] a > b > c\n",
        "print(f'max3(3, 2, 2) = {max3(3, 2, 2)}')   # [B] a > b = c\n",
        "print(f'max3(3, 1, 2) = {max3(3, 1, 2)}')   # [C] a > c > b\n",
        "print(f'max3(3, 2, 3) = {max3(3, 2, 3)}')   # [D] a = c > b\n",
        "print(f'max3(2, 1, 3) = {max3(2, 1, 3)}')   # [E] c > a > b\n",
        "print(f'max3(3, 3, 2) = {max3(3, 3, 2)}')   # [F] a = b > c\n",
        "print(f'max3(3, 3, 3) = {max3(3, 3, 3)}')   # [G] a = b = c\n",
        "print(f'max3(2, 2, 3) = {max3(2, 2, 3)}')   # [H] c > a = b\n",
        "print(f'max3(2, 3, 1) = {max3(2, 3, 1)}')   # [I] b > a > c\n",
        "print(f'max3(2, 3, 2) = {max3(2, 3, 2)}')   # [J] b > a = c\n",
        "print(f'max3(1, 3, 2) = {max3(1, 3, 2)}')   # [K] b > c > a\n",
        "print(f'max3(2, 3, 3) = {max3(2, 3, 3)}')   # [L] b = c > a\n",
        "print(f'max3(1, 2, 3) = {max3(1, 2, 3)}')   # [M] c > b > a"
      ],
      "execution_count": null,
      "outputs": []
    },
    {
      "cell_type": "markdown",
      "metadata": {
        "id": "X_P2hdrkyy2G"
      },
      "source": [
        "(보충 1-4) 복합문을 작성할 때 지켜야 할 규칙"
      ]
    },
    {
      "cell_type": "code",
      "metadata": {
        "id": "r71j4mzCwkB-"
      },
      "source": [
        "# 첫번째, 행마다 반드시 같은 수준으로 들여쓰기를 해야한다.\n",
        "if a < b:\n",
        "    min2 = a\n",
        "    max2 = b\n",
        "\n",
        "# 두번째, 스위트가 단순문(여러개도 가능)이라면 헤더와 같은 행에 둘 수 있다.\n",
        "if a < b: min2 = a ; max2 = b\n",
        "\n",
        "# 세번째, 스위트가 복합문이라면 헤더와 스위트를 같은 행에 둘 수 없다.\n",
        "'''if a < b: if c < a: x = u        # 불가능(오류발생)'''\n",
        "if a < b: \n",
        "    if c < a: \n",
        "        x = u                       # 가능"
      ],
      "execution_count": null,
      "outputs": []
    },
    {
      "cell_type": "markdown",
      "metadata": {
        "id": "FXzcYlqg0X1o"
      },
      "source": [
        "(보충 1-5) 세 정수의 대소 관계와 중앙값\n",
        "<br> 세 정수의 대소 관계를 나열하고 싶을 때는 결정 트리(decision tree)를 이용하여 대소 관계 조합을 찾을 수 있다."
      ]
    },
    {
      "cell_type": "code",
      "metadata": {
        "id": "YGf8h3hIzoeD"
      },
      "source": [
        "# 실습 1C-2\n",
        "# 세 정수를 입력받아 중앙값 구하기1\n",
        "\n",
        "def med3(a, b, c):\n",
        "    \"\"\"a, b, c의 중앙값을 구하여 반환\"\"\"\n",
        "    if a >= b: \n",
        "        if b >= c: \n",
        "            return b        # a >= b & b >= c\n",
        "        elif a <= c: \n",
        "            return a        # a >= b & c >= a\n",
        "        else:\n",
        "            return c\n",
        "    elif a > c:\n",
        "        return a            # a <= b & a > c    (if a >= b가 아님이)\n",
        "    elif b > c: \n",
        "        return c\n",
        "    else:\n",
        "        return b\n",
        "\n",
        "print('세 정수의 중앙값을 구합니다.')\n",
        "a = int(input('정수 a의 값을 입력하세요.: '))\n",
        "b = int(input('정수 b의 값을 입력하세요.: '))\n",
        "c = int(input('정수 c의 값을 입력하세요.: '))\n",
        "\n",
        "print(f'중앙값은 {med3(a, b, c)}입니다.')"
      ],
      "execution_count": null,
      "outputs": []
    },
    {
      "cell_type": "code",
      "metadata": {
        "id": "KwHb1IMW3Gsu"
      },
      "source": [
        "# 세 정숫값을 입력받아 중앙값을 구하기 2\n",
        "\n",
        "def med3(a, b, c):\n",
        "    \"\"\"a, b, c의 중앙값을 구하여 반환(다른 방법)\"\"\"\n",
        "    if (b >= a and c <= a) or (b <= a and c >= a):\n",
        "        return a\n",
        "    elif (a > b and c < b) or (a < b and c > b):\n",
        "        return b\n",
        "    return c\n",
        "\n",
        "print('세 정수의 중앙값을 구합니다.')\n",
        "a = int(input('정수 a의 값을 입력하세요.: '))\n",
        "b = int(input('정수 b의 값을 입력하세요.: '))\n",
        "c = int(input('정수 c의 값을 입력하세요.: '))\n",
        "\n",
        "print(f'중앙값은 {med3(a, b, c)}입니다.')\n"
      ],
      "execution_count": null,
      "outputs": []
    },
    {
      "cell_type": "markdown",
      "metadata": {
        "id": "NNnCBPid7XzO"
      },
      "source": [
        "방법2에서 if문과 elif문에서 같은 변수(a와 b)를 반복해서 비교하기 때문에 방법 2는 방법 1보다 덜 효율적이라고 할 수 있다."
      ]
    },
    {
      "cell_type": "markdown",
      "metadata": {
        "id": "T7Q3v81NQTkB"
      },
      "source": [
        "\n",
        "\n",
        "---\n",
        "\n"
      ]
    },
    {
      "cell_type": "markdown",
      "metadata": {
        "id": "xkD9pvM175Ap"
      },
      "source": [
        "* 조건문과 분기\n",
        "<br> 분기(branching) : 프로그램의 실행 흐름으르 다른 곳으로 변경하는 명령"
      ]
    },
    {
      "cell_type": "code",
      "metadata": {
        "id": "VzpjRHDn3clA"
      },
      "source": [
        "# 실습 1-3\n",
        "# 입력받은 정수의 부호(양수, 음수, 0) 출력하기\n",
        "\n",
        "for _ in range(3):\n",
        "    n = int(input('정수를 입력하세요.: '))\n",
        "    \n",
        "    if n > 0:\n",
        "        print('이 수는 양수입니다.')\n",
        "    elif n < 0:\n",
        "        print('이 수는 음수입니다.')\n",
        "    else:\n",
        "        print('이 수는 0입니다.')"
      ],
      "execution_count": null,
      "outputs": []
    },
    {
      "cell_type": "markdown",
      "metadata": {
        "id": "t28zclpS9Kde"
      },
      "source": [
        "이 프로그램의 흐름은 3개로 분기하기 때문에 코드(print문장) 2개가 동시에 실행되거나 하나도 실행되지 않는 경우는 없다."
      ]
    },
    {
      "cell_type": "code",
      "metadata": {
        "id": "9DSFncrT8oEo"
      },
      "source": [
        "# 실습 1-4\n",
        "# 3개로 분기하는 조건문\n",
        "\n",
        "for _ in range(3):\n",
        "\n",
        "    n = int(input('정수를 입력하세요.: '))\n",
        "\n",
        "    if n == 1:\n",
        "        print('A')\n",
        "    elif n == 2:\n",
        "        print('B')\n",
        "    else:\n",
        "        print('C')"
      ],
      "execution_count": null,
      "outputs": []
    },
    {
      "cell_type": "code",
      "metadata": {
        "id": "yQoiFb4K-GNX"
      },
      "source": [
        "# 실습 1-5\n",
        "# 4개로 분기하는 조건문\n",
        "\n",
        "for _ in range(3):\n",
        "    n = int(input('정수를 입력하세요.: '))\n",
        "\n",
        "    if n == 1:\n",
        "        print('A')\n",
        "    elif n == 2:\n",
        "        print('B')\n",
        "    elif n == 3:\n",
        "        print('C')\n",
        "#    else:\n",
        "#        pass"
      ],
      "execution_count": null,
      "outputs": []
    },
    {
      "cell_type": "markdown",
      "metadata": {
        "id": "2YL_hm2M_X7y"
      },
      "source": [
        "입력 정수가 1, 2, 3이 아닐 경우에는 아무것도 출력하지 않는다. 여기에는 else문이 숨어 있다고 생각하여 4개로 분기한다고 말한다."
      ]
    },
    {
      "cell_type": "markdown",
      "metadata": {
        "id": "syd3gzEx-_mN"
      },
      "source": [
        "(보충 1-6) 연산자와 피연산자<br>\n",
        "프로그래밍 언어에서는 +, - 등의 기호를 산술 연산자(operator) 라고 하며, 연산 대상을 피연산자(operand) 라고 한다."
      ]
    },
    {
      "cell_type": "markdown",
      "metadata": {
        "id": "O81uLyxwA5CZ"
      },
      "source": [
        "> 단항 연산자(unary operator): 피연산자가 1개\n",
        "<br> - ex) $-a$ <br>\n",
        "> 이항 연산자(binary operator): 피연산자가 2개\n",
        "<br> - ex) $a<b$ <br>\n",
        "> 삼항 연산자(ternary operator): 피연산자가 3개\n",
        "<br> - ex) $a$ if $b$ else $c$\n"
      ]
    },
    {
      "cell_type": "code",
      "metadata": {
        "id": "cFuWFjPcA17D"
      },
      "source": [
        "x = 2; y = 3\n",
        "a = x if x > y else y       # x와 y 중에 큰 수를 a에 대입한다.\n",
        "print(a)\n",
        "\n",
        "c =! 0\n",
        "print('c는 0입니다.' if c == 0 else 'c는 0이 아닙니다.')        # c가 0이면 'c는 0입니다' 출력, 아니면 'c는 0이 아닙니다' 출력'''"
      ],
      "execution_count": null,
      "outputs": []
    },
    {
      "cell_type": "markdown",
      "metadata": {
        "id": "IdoirvccQV7Q"
      },
      "source": [
        "\n",
        "\n",
        "---\n",
        "\n"
      ]
    },
    {
      "cell_type": "markdown",
      "metadata": {
        "id": "r6HZge1YGM6E"
      },
      "source": [
        "* 순서도 기호 살펴보기\n",
        "<br> 순서도(flowchart) : 문제를 정의/분석하고 해결하는 방법을 표현한 그림\n",
        "> 실제로 실행할 연산을 나타내는 기호\n",
        "> <br>제어 흐름을 나타내는 선 기호\n",
        "> <br>프로그램 순서도를 이해하거나 작성하는 데 편리한 특수 기호\n"
      ]
    },
    {
      "cell_type": "markdown",
      "metadata": {
        "id": "dtpGroPRJGBF"
      },
      "source": [
        "순서도에서 사용하는 용어와 기호들\n",
        "> 데이터 : 기억 장치를 지정하지 않은 데이터 자체\n",
        "> <br>처리 : 정보의 값/형/위치를 바꾸도록 정의한 연산이나 연산 집합의 실행, 또는 연속하는 몇 가지 흐름 가운데 하나의 방향을 결정하는 연산이나 연산 집합의 실행\n",
        "> <br> 판단 : 하나의 입구와 하나 이상을 선택하는 출구가 있고, 판단 기호 안에 정의한 조건을 평가하여 하나의 출구를 선택하는 판단기능\n",
        "> <br> 루프 범위 : 두 부분으로 구성되어 있으며, 루프의 시작과 끝을 알린다. 두개의 루프 안에는 같은 이름/내용을 표기한다.\n",
        "> <br> 단말 : 외부 환경으로 나가거나 외부 환경에서 들어오는 것을 나타낸다. 주로 프로그램 흐름의 시작과 종료를 나타낸다."
      ]
    },
    {
      "cell_type": "markdown",
      "metadata": {
        "id": "k4IiYjUQMSMM"
      },
      "source": [
        "#1.2 반복하는 알고리즘"
      ]
    },
    {
      "cell_type": "markdown",
      "metadata": {
        "id": "ENOauFfiMiEY"
      },
      "source": [
        "##1부터 n까지 정수의 합 구하기"
      ]
    },
    {
      "cell_type": "code",
      "metadata": {
        "colab": {
          "base_uri": "https://localhost:8080/"
        },
        "id": "7z8bNYYEMTYn",
        "outputId": "9c2d7132-795d-4599-bda4-2d2ea53e00c7"
      },
      "source": [
        "# 실습 1-7\n",
        "# 1부터 n까지 정수의 합 구하기 1-1\n",
        "\n",
        "print('1부터 n까지 정수의 합을 구합니다.')\n",
        "n = int(input('n값을 입력하세요.: '))\n",
        "\n",
        "# 합을 구하는 준비 단계 (초기값 설정)\n",
        "sum = 0\n",
        "i = 1\n",
        "\n",
        "# 루프 본문 (while 반복문)\n",
        "while i <= n:  # i가 n보다 작거나 같은 동안 반복\n",
        "    sum += i   # sum에 i를 더함\n",
        "    i += 1     # i에 1을 더함\n",
        "\n",
        "print(f'1부터 {n}까지 정수의 합은 {sum}입니다.')"
      ],
      "execution_count": null,
      "outputs": [
        {
          "output_type": "stream",
          "name": "stdout",
          "text": [
            "1부터 n까지 정수의 합을 구합니다.\n",
            "n값을 입력하세요.: 5\n",
            "1부터 5까지 정수의 합은 15입니다.\n"
          ]
        }
      ]
    },
    {
      "cell_type": "markdown",
      "metadata": {
        "id": "mFTCzRsgNFHH"
      },
      "source": [
        "> 반복 구조(repetition structure) / 루프(loop): 어떤 조건이 성립하는 동안 반복해서 처리하는 것<br>\n",
        "루프 본문 : 반복문 구문에서 반복 대상이 되는 명령문\n",
        "\n",
        "` while 조건식 :  명령문 ` 에서 조건문이 TRUE 일때까지 반복문을 실행하고 명령문을 수행한다. <br>조건문이 FALSE이면 명령문을 실행하지 않는다.\n",
        "\n"
      ]
    },
    {
      "cell_type": "code",
      "metadata": {
        "colab": {
          "base_uri": "https://localhost:8080/"
        },
        "id": "sfnbZRGQNSo4",
        "outputId": "df61fb80-1f63-4aec-d2d3-d1b5fdd4db28"
      },
      "source": [
        "# 1부터 n까지 정수의 합 구하기 1-2 (1 코드에서 맨 아랫줄만 추가한 것)\n",
        "\n",
        "print('1부터 n까지 정수의 합을 구합니다.')\n",
        "n = int(input('n값을 입력하세요.: '))\n",
        "\n",
        "# 합을 구하는 준비 단계 (초기값 설정)\n",
        "sum = 0\n",
        "i = 1\n",
        "\n",
        "# 루프 본문 (while 반복문)\n",
        "while i <= n:  # i가 n보다 작거나 같은 동안 반복\n",
        "    sum += i   # sum에 i를 더함\n",
        "    i += 1     # i에 1을 더함\n",
        "\n",
        "print(f'1부터 {n}까지 정수의 합은 {sum}입니다.')\n",
        "print(f'i값은 {i}입니다.')      # while문에서 n=5일 때, \n",
        "                                # 맨 마지막에 i에 1을 더한 상태로 반복문을 빠져나왔기 때문에\n",
        "                                # i를 print 하면 내가 입력한 값보다 1 큰 숫자가 나온다."
      ],
      "execution_count": null,
      "outputs": [
        {
          "output_type": "stream",
          "name": "stdout",
          "text": [
            "1부터 n까지 정수의 합을 구합니다.\n",
            "n값을 입력하세요.: 5\n",
            "1부터 5까지 정수의 합은 15입니다.\n",
            "i값은 6입니다.\n"
          ]
        }
      ]
    },
    {
      "cell_type": "markdown",
      "metadata": {
        "id": "Uz6Pfp36QFLI"
      },
      "source": [
        "변수가 하나만 있을 때는 while 문보다 for 문을 사용하는 것이 좋다."
      ]
    },
    {
      "cell_type": "code",
      "metadata": {
        "colab": {
          "base_uri": "https://localhost:8080/"
        },
        "id": "RO4MeGaGPb1p",
        "outputId": "564fef93-8b14-495e-f8b2-6881f2e836fe"
      },
      "source": [
        "# 실습 1-8 \n",
        "# 1부터 n까지의 합 구하기 2 (for 문)\n",
        "\n",
        "print('1부터 n까지의 합을 구합니다.')\n",
        "n = int(input('n값을 입력하세요.: '))\n",
        "\n",
        "# 루프 본문 (for문)\n",
        "sum = 0\n",
        "for i in range(1, n + 1):\n",
        "    sum += i  # sum에 i를 더함\n",
        "\n",
        "print(f'1부터 {n}까지 정수의 합은 {sum}입니다.')"
      ],
      "execution_count": null,
      "outputs": [
        {
          "output_type": "stream",
          "name": "stdout",
          "text": [
            "1부터 n까지의 합을 구합니다.\n",
            "n값을 입력하세요.: 5\n",
            "1부터 5까지 정수의 합은 15입니다.\n"
          ]
        }
      ]
    },
    {
      "cell_type": "markdown",
      "metadata": {
        "id": "MedIeD9_TYVW"
      },
      "source": [
        "range() 함수는 iterable 객체, 즉, 반복할 수 있는 객체를 생성한다.\n",
        "> range(n) : 0 이상 n 미만인 수를 차례로 나열하는 수열\n",
        "<br> range(a, b) : a 이상 b 미만인 수를 차례로 나열하는 수열\n",
        "<br> range(a, b, step) : a 이상 b 미만인 수를 step 간격으로 나열하는 수열"
      ]
    },
    {
      "cell_type": "markdown",
      "metadata": {
        "id": "KfxjXEFSR6aw"
      },
      "source": [
        "가우스(Gauss) 덧셈을 이용하여 1부터 n까지 정수의 합을 구할 수 있다.\n",
        "<br> \n",
        "가우스 덧셈 : ` sum = n * (n+1) // 2 `\n",
        "\n"
      ]
    },
    {
      "cell_type": "code",
      "metadata": {
        "colab": {
          "base_uri": "https://localhost:8080/"
        },
        "id": "01UYF41rQiKG",
        "outputId": "a18fc125-5922-43d4-fa01-00aa141f72ff"
      },
      "source": [
        "# 1부터 n까지의 합 구하기 3(가우스 덧셈 방법)\n",
        "\n",
        "print('1부터 n까지의 합을 구합니다.')\n",
        "n = int(input('n값을 입력하세요.: '))\n",
        "\n",
        "# 가우스 덧셈\n",
        "sum = n * (n + 1) // 2\n",
        "\n",
        "print(f'1부터 {n}까지의 합은 {sum}입니다.')"
      ],
      "execution_count": null,
      "outputs": [
        {
          "output_type": "stream",
          "name": "stdout",
          "text": [
            "1부터 n까지의 합을 구합니다.\n",
            "n값을 입력하세요.: 5\n",
            "1부터 5까지의 합은 15입니다.\n"
          ]
        }
      ]
    },
    {
      "cell_type": "markdown",
      "metadata": {
        "id": "_3SpjXIYU_fY"
      },
      "source": [
        "## 연속하는 정수의 합을 구하기 위해 값 정렬하기"
      ]
    },
    {
      "cell_type": "markdown",
      "metadata": {
        "id": "_osLyljBVLyq"
      },
      "source": [
        "연속하는 정수의 합을 구할 때 시작하는 값이 1이 아닌 정수를 입력받았다면<br> range() 함수에 전달할 시작값과 끝값을 **오름차순으로 정렬**해야한다."
      ]
    },
    {
      "cell_type": "code",
      "metadata": {
        "colab": {
          "base_uri": "https://localhost:8080/"
        },
        "id": "owD46fMtSuFm",
        "outputId": "63d16907-1c84-49b1-debb-ad9643104103"
      },
      "source": [
        "# 실습 1-9\n",
        "# a부터 b까지 정수의 합 구하기(for 문)\n",
        "\n",
        "for i in range(2): \n",
        "    print('a부터 b까지의 합을 구합니다.')\n",
        "    a = int(input('정수 a를 입력하세요.: '))\n",
        "    b = int(input('정수 b를 입력하세요.: '))\n",
        "\n",
        "    if a > b:        # 시작값이 끝값보다 더 크다면 순서를 바꿔준다.\n",
        "        a, b = b, a  # a와 b를 오름차순으로 정렬\n",
        "\n",
        "    sum = 0\n",
        "    for i in range(a, b + 1):\n",
        "        sum += i  # sum에 i를 더함\n",
        "\n",
        "    print(f'{a}부터 {b}까지 정수의 합은 {sum}입니다.')\n",
        "    print(\"--------------------------------------\")"
      ],
      "execution_count": null,
      "outputs": [
        {
          "output_type": "stream",
          "name": "stdout",
          "text": [
            "a부터 b까지의 합을 구합니다.\n",
            "정수 a를 입력하세요.: 8\n",
            "정수 b를 입력하세요.: 3\n",
            "3부터 8까지 정수의 합은 33입니다.\n",
            "--------------------------------------\n",
            "a부터 b까지의 합을 구합니다.\n",
            "정수 a를 입력하세요.: 3\n",
            "정수 b를 입력하세요.: 8\n",
            "3부터 8까지 정수의 합은 33입니다.\n",
            "--------------------------------------\n"
          ]
        }
      ]
    },
    {
      "cell_type": "markdown",
      "metadata": {
        "id": "UG8XRqpOWbVS"
      },
      "source": [
        "## 반복 과정에서 조건 판단하기 1"
      ]
    },
    {
      "cell_type": "code",
      "metadata": {
        "colab": {
          "base_uri": "https://localhost:8080/"
        },
        "id": "bDTiGSZIV1et",
        "outputId": "4bca41e8-b135-4982-d349-b3bde11088bb"
      },
      "source": [
        "# 실습 1-10\n",
        "# a부터 b까지 정수의 합 구하기 1\n",
        "\n",
        "for n in range(3): \n",
        "\n",
        "    print('a부터 b까지의 합을 구합니다.')\n",
        "    a = int(input('정수 a를 입력하세요.: '))\n",
        "    b = int(input('정수 b를 입력하세요.: '))\n",
        "\n",
        "    if a > b:       # 시작값이 끝값보다 크면 교환(오름차순 정렬)\n",
        "        a, b = b, a\n",
        "\n",
        "    sum = 0\n",
        "    for i in range(a, b + 1):  # b - a번 반복\n",
        "        if i < b:              # i가 b보다 작으면 합을 구하는 과정을 출력\n",
        "            print(f'{i} + ', end='')    # 진행중인 값 뒤에는 '+' 붙임\n",
        "        else:                  # i가 b보다 크거나 같으면 최종값 출력을 위해 i =를 출력\n",
        "            print(f'{i} = ', end='')    # 마지막 값 뒤에는 '=' 붙임\n",
        "        sum += i               # sum에 i를 더함\n",
        "\n",
        "    print(sum)\n",
        "    print(\"--------------------------------------\")"
      ],
      "execution_count": null,
      "outputs": [
        {
          "output_type": "stream",
          "name": "stdout",
          "text": [
            "a부터 b까지의 합을 구합니다.\n",
            "정수 a를 입력하세요.: 3\n",
            "정수 b를 입력하세요.: 3\n",
            "3 = 3\n",
            "--------------------------------------\n",
            "a부터 b까지의 합을 구합니다.\n",
            "정수 a를 입력하세요.: 3\n",
            "정수 b를 입력하세요.: 5\n",
            "3 + 4 + 5 = 12\n",
            "--------------------------------------\n",
            "a부터 b까지의 합을 구합니다.\n",
            "정수 a를 입력하세요.: 3\n",
            "정수 b를 입력하세요.: 7\n",
            "3 + 4 + 5 + 6 + 7 = 25\n",
            "--------------------------------------\n"
          ]
        }
      ]
    },
    {
      "cell_type": "markdown",
      "metadata": {
        "id": "oT55GmCAZBn0"
      },
      "source": [
        "실습 1-10 코드에서 if문은 효율적이지 않다고 할 수 있다.\n",
        "왜냐하면 if문은 <br> 마지막에 단 1번 실행되는 18행('=' 붙이는거)을 위해 나머지 턴 동안 16행이 계속해서 실행되어야하기 때문이다.<br> 이는 매우 비효율적이라고 할 수 있다.\n",
        "\n",
        "아래에 if문을 사용하지 않고 a부터 b까지 정수의 합을 구하는 코드를 짜보자."
      ]
    },
    {
      "cell_type": "code",
      "metadata": {
        "colab": {
          "base_uri": "https://localhost:8080/"
        },
        "id": "KNjcKTq-WmtH",
        "outputId": "3032455b-a9fc-4464-9418-fcd743be8c41"
      },
      "source": [
        "# 실습 1-11\n",
        "# a부터 b까지 정수의 합 구하기 2 (1 코드에서 if문을 제외)\n",
        "\n",
        "for i in range(3) : \n",
        "    print('a부터 b까지 정수의 합을 구합니다.')\n",
        "    a = int(input('정수 a를 입력하세요.: '))\n",
        "    b = int(input('정수 b를 입력하세요.: '))\n",
        "\n",
        "    if a > b :\n",
        "        a, b = b, a\n",
        "\n",
        "    sum = 0\n",
        "    for i in range(a, b):\n",
        "        print(f'{i} + ', end='')\n",
        "        sum += i  # sum에 i를 더함\n",
        "\n",
        "    print(f'{b} = ', end ='')\n",
        "    sum += b      # sum에 b를 더함\n",
        "\n",
        "    print(sum)\n",
        "    print(\"--------------------------------------\")"
      ],
      "execution_count": null,
      "outputs": [
        {
          "output_type": "stream",
          "name": "stdout",
          "text": [
            "a부터 b까지 정수의 합을 구합니다.\n",
            "정수 a를 입력하세요.: 3\n",
            "정수 b를 입력하세요.: 3\n",
            "3 = 3\n",
            "--------------------------------------\n",
            "a부터 b까지 정수의 합을 구합니다.\n",
            "정수 a를 입력하세요.: 3\n",
            "정수 b를 입력하세요.: 5\n",
            "3 + 4 + 5 = 12\n",
            "--------------------------------------\n",
            "a부터 b까지 정수의 합을 구합니다.\n",
            "정수 a를 입력하세요.: 3\n",
            "정수 b를 입력하세요.: 7\n",
            "3 + 4 + 5 + 6 + 7 = 25\n",
            "--------------------------------------\n"
          ]
        }
      ]
    },
    {
      "cell_type": "markdown",
      "metadata": {
        "id": "8bePpEFOaJ3j"
      },
      "source": [
        "결론\n",
        "<br> 판단 횟수가 n번에서 0번으로 바뀌고 반복 횟수도 1번 감소하였다. => 알고리즘의 효율 좋아짐"
      ]
    },
    {
      "cell_type": "markdown",
      "metadata": {
        "id": "ij7VpFKHxvA2"
      },
      "source": [
        "## 반복 과정에서 조건 판단하기 2"
      ]
    },
    {
      "cell_type": "code",
      "metadata": {
        "id": "Xqf90HmRYu-c",
        "colab": {
          "base_uri": "https://localhost:8080/"
        },
        "outputId": "53c34265-5491-4bf0-9940-35a7f9f2ef9f"
      },
      "source": [
        "# 실습 1-12\n",
        "# +와 -를 번갈아 출력하기 1 (특정 문자를 줄바꿈 없이 연속으로 출력)\n",
        "\n",
        "print('+와 -를 번갈아 출력합니다.')\n",
        "n = int(input('몇 개를 출력할까요?: '))\n",
        "\n",
        "for i in range(n):          # 반복 n번\n",
        "    if i % 2:                 \n",
        "        print('-', end='')  # 홀수인 경우 - 출력\n",
        "                            # 홀수이면 i%2 결과가 1(=True)\n",
        "    else:\n",
        "        print('+', end='')  # 짝수인 경우 + 출력\n",
        "                            # 짝수이면 i%2 결과가 0(=False)\n",
        "\n",
        "print()"
      ],
      "execution_count": null,
      "outputs": [
        {
          "output_type": "stream",
          "name": "stdout",
          "text": [
            "+와 -를 번갈아 출력합니다.\n",
            "몇 개를 출력할까요?: 5\n",
            "+-+-+\n"
          ]
        }
      ]
    },
    {
      "cell_type": "markdown",
      "metadata": {
        "id": "TitNiNFA0cph"
      },
      "source": [
        "위의 프로그램은 잘 동작하지만 for문을 돌릴 때마다 if문이 수행된다는 단점이 있고 <br> 이는 상황에 따라 유연하게 수정하기 쉽지 않다는 문제가 있다."
      ]
    },
    {
      "cell_type": "code",
      "metadata": {
        "colab": {
          "base_uri": "https://localhost:8080/"
        },
        "id": "UAtB-rTnzjew",
        "outputId": "14f9b502-7550-47f4-e2b7-dcfeeb72a07d"
      },
      "source": [
        "# 실습 1-13\n",
        "# +와 -를 번갈아 출력하기 2 (1의 문제점 해결)\n",
        "\n",
        "print('+와 -를 번갈아 출력합니다.')\n",
        "n = int(input('몇 개를 출력할까요?: '))\n",
        "\n",
        "# n이 홀수이면 마지막에 + 붙여주고, 짝수이면 for문만 수행되고 print됨\n",
        "for _ in range(n // 2):  # NOTE 참조\n",
        "    print('+-', end='')  # n // 2개의 +-를 출력\n",
        "\n",
        "if n % 2:\n",
        "    print('+', end='')  # n이 홀수일 때만 +를 출력\n",
        "\n",
        "print()"
      ],
      "execution_count": null,
      "outputs": [
        {
          "output_type": "stream",
          "name": "stdout",
          "text": [
            "+와 -를 번갈아 출력합니다.\n",
            "몇 개를 출력할까요?: 5\n",
            "+-+-+\n"
          ]
        }
      ]
    },
    {
      "cell_type": "markdown",
      "metadata": {
        "id": "8fEwcyDJ2ScX"
      },
      "source": [
        "NOTE\n",
        "<br> 파이썬에서는 무시하고 싶은 값을 언더스코어(_)로 표현할 수 있다.\n"
      ]
    },
    {
      "cell_type": "markdown",
      "metadata": {
        "id": "izGEWeoA2k3m"
      },
      "source": [
        "결론<br> 실습 1-13에서는 반복문에서 if문을 수행하지 않으므로 실습 1-12보다 효율적이라고 할 수 있다."
      ]
    },
    {
      "cell_type": "markdown",
      "metadata": {
        "id": "KOSw9GX828gm"
      },
      "source": [
        "## 반복 과정에서 조건 판단하기 3"
      ]
    },
    {
      "cell_type": "code",
      "metadata": {
        "id": "Hsg-a75m1_0F",
        "colab": {
          "base_uri": "https://localhost:8080/"
        },
        "outputId": "465ef4da-bed4-44d3-dd26-cfb2ad080da0"
      },
      "source": [
        "# 실습 1-14\n",
        "# *를 n개 출력하되 w개마다 줄바꿈하기 1\n",
        "\n",
        "print('*를 출력합니다.')\n",
        "n = int(input('몇 개를 출력할까요? : '))      # n : * 개수\n",
        "w = int(input('몇 개마다 줄바꿈할까요? : '))  # w : 줄바꿈 개수\n",
        "\n",
        "# n이 w의 배수일 경우\n",
        "for i in range(n):      # n번 반복\n",
        "    print('*', end='')  \n",
        "    if i % w == w - 1:  # n번 판단\n",
        "        print()         # 줄바꿈\n",
        "\n",
        "# n이 w의 배수가 아닐 경우 (* 굳이 없어도 우리가 원하는 결과 나옴)\n",
        "if n % w:\n",
        "    print()             # 줄바꿈"
      ],
      "execution_count": null,
      "outputs": [
        {
          "output_type": "stream",
          "name": "stdout",
          "text": [
            "*를 출력합니다.\n",
            "몇 개를 출력할까요? : 23\n",
            "몇 개마다 줄바꿈할까요? : 4\n",
            "****\n",
            "****\n",
            "****\n",
            "****\n",
            "****\n",
            "***\n"
          ]
        }
      ]
    },
    {
      "cell_type": "markdown",
      "metadata": {
        "id": "sKYh0Q1StAmC"
      },
      "source": [
        "실습 1-14 코드도 이전 예제처럼 for문을 반복할 때마다 if문을 실행한다는 문제점을 가지고 있다. <br> 아래의 코드는 이 문제점을 개선한 코드이다."
      ]
    },
    {
      "cell_type": "code",
      "metadata": {
        "colab": {
          "base_uri": "https://localhost:8080/"
        },
        "id": "pwqtnUnBqSVa",
        "outputId": "aceab96d-e32b-4130-c7c0-28f01b221412"
      },
      "source": [
        "# 실습 1-15\n",
        "# *를 n개 출력하되 w개마다 줄바꿈하기 2 (1의 문제점 개선)\n",
        "\n",
        "print('*를 출력합니다.')\n",
        "n = int(input('몇 개를 출력할까요?: '))\n",
        "w = int(input('몇 개마다 줄바꿈할까요?: '))\n",
        "\n",
        "# n이 w의 배수이면 for문으로 전부 출력 가능\n",
        "for _ in range(n // w):  # 반복 n // w번 반복 (반복횟수 감소)\n",
        "    print('*' * w)\n",
        "\n",
        "# n이 w의 배수가 아닐 때 나머지(마지막 행)에 대해 출력\n",
        "rest = n % w\n",
        "if rest:    # rest=0이면 실행하지 않음\n",
        "    print('*' * rest)  # if 문 1번 판단"
      ],
      "execution_count": null,
      "outputs": [
        {
          "output_type": "stream",
          "name": "stdout",
          "text": [
            "*를 출력합니다.\n",
            "몇 개를 출력할까요?: 23\n",
            "몇 개마다 줄바꿈할까요?: 4\n",
            "****\n",
            "****\n",
            "****\n",
            "****\n",
            "****\n",
            "***\n"
          ]
        }
      ]
    },
    {
      "cell_type": "markdown",
      "metadata": {
        "id": "Q0etAZH0vGfM"
      },
      "source": [
        "결론<br>실습 1-15를 실습 1-14와 비교해보면, <br> 반복횟수가 n회에서 n//w회로 감소하였고 for문 안에서 if문을 사용하지 않으므로 더 효율적임을 알 수 있다."
      ]
    },
    {
      "cell_type": "markdown",
      "metadata": {
        "id": "o7BuiaiQvq61"
      },
      "source": [
        "## 양수만 입력 받기"
      ]
    },
    {
      "cell_type": "markdown",
      "metadata": {
        "id": "fK1taDo-v3t7"
      },
      "source": [
        "이전 실습 1-8을 불러와보자."
      ]
    },
    {
      "cell_type": "code",
      "metadata": {
        "colab": {
          "base_uri": "https://localhost:8080/"
        },
        "id": "HK3PREUttZaZ",
        "outputId": "c2932e24-08cf-4e5b-f865-8c9ede6daf7c"
      },
      "source": [
        "# 실습 1-8\n",
        "# 1부터 n까지의 합 구하기\n",
        "\n",
        "print('1부터 n까지의 합을 구합니다.')\n",
        "n = int(input('n값을 입력하세요.: '))\n",
        "\n",
        "sum = 0\n",
        "for i in range(1, n + 1):\n",
        "    sum += i  # sum에 i를 더함\n",
        "\n",
        "print(f'1부터 {n}까지 정수의 합은 {sum}입니다.')"
      ],
      "execution_count": null,
      "outputs": [
        {
          "output_type": "stream",
          "name": "stdout",
          "text": [
            "1부터 n까지의 합을 구합니다.\n",
            "n값을 입력하세요.: -5\n",
            "1부터 -5까지 정수의 합은 0입니다.\n"
          ]
        }
      ]
    },
    {
      "cell_type": "markdown",
      "metadata": {
        "id": "numXeNZ2wES4"
      },
      "source": [
        "위의 결과를 보면 프로그램에 음수를 입력했을 때 이상한 결과값을 출력하는 것을 알 수 있다.<br> 이 문제점을 아래의 실습을 통해 개선해보자.\n",
        "\n",
        "아래의 코드는 무한 루프를 사용하여 사용자가 양수를 입력할 때까지 계속해서 프로그램을 실행시킨다."
      ]
    },
    {
      "cell_type": "code",
      "metadata": {
        "colab": {
          "base_uri": "https://localhost:8080/"
        },
        "id": "fRjHmb3UwCbE",
        "outputId": "d7daaf7d-2748-463b-eefb-d1001483fe4f"
      },
      "source": [
        "# 실습 1-16\n",
        "# 1부터 n까지 정수의 합 구하기 (n값은 양수만)\n",
        "\n",
        "print('1부터 n까지 정수의 합을 구합니다.')\n",
        "\n",
        "while True:    # 무한 루프\n",
        "    n = int(input('n값을 입력하세요.: '))\n",
        "    if n > 0:\n",
        "        break  # n이 0보다 커질 때까지 반복 (무한 루프 종료)\n",
        "\n",
        "sum = 0\n",
        "i = 1\n",
        "\n",
        "for i in range(1, n + 1):\n",
        "    sum += i  # sum에 i를 더함\n",
        "    i += 1    # i에 1을 더함\n",
        "\n",
        "print(f'1부터 {n}까지 정수의 합은 {sum}입니다.')"
      ],
      "execution_count": null,
      "outputs": [
        {
          "output_type": "stream",
          "name": "stdout",
          "text": [
            "1부터 n까지 정수의 합을 구합니다.\n",
            "n값을 입력하세요.: -5\n",
            "n값을 입력하세요.: -3\n",
            "n값을 입력하세요.: 2\n",
            "1부터 2까지 정수의 합은 3입니다.\n"
          ]
        }
      ]
    },
    {
      "cell_type": "markdown",
      "metadata": {
        "id": "shL7pFmvxgkT"
      },
      "source": [
        "## 직사각형 넓이로 변의 길이 구하기"
      ]
    },
    {
      "cell_type": "code",
      "metadata": {
        "colab": {
          "base_uri": "https://localhost:8080/"
        },
        "id": "d7HIfdUCxcJc",
        "outputId": "666d61e2-f601-4272-b5ea-7c70beb8173e"
      },
      "source": [
        "# 실습 1-17 \n",
        "# 가로 세로가 정수이고 넓이가 area인 직사각형에서 변의 길이를 나열하기\n",
        "\n",
        "area = int(input('직사각형의 넓이를 입력하세요.: '))\n",
        "\n",
        "for i in range(1, area + 1):  # 1부터 사각형의 넓이 계산\n",
        "    if i * i > area: break    # 한 변의 길이가 i인 정사각형의 넓이가 area보다 크면 for문 종료\n",
        "                              # i가 가장 긴 변의 길이\n",
        "    if area % i: continue     # area가 i로 나누어 떨어지면 아래의 print문 실행\n",
        "                              # area가 i로 나누어 떨어지지 않으면 i+1으로 for문 실행(아래의 print문 실행x)\n",
        "    print(f'{i} × {area // i}')  # 짧은 변, 긴 변의 순서로 출력"
      ],
      "execution_count": null,
      "outputs": [
        {
          "output_type": "stream",
          "name": "stdout",
          "text": [
            "직사각형의 넓이를 입력하세요.: 32\n",
            "1 × 32\n",
            "2 × 16\n",
            "4 × 8\n"
          ]
        }
      ]
    },
    {
      "cell_type": "markdown",
      "metadata": {
        "id": "l4r42Fgi2aRs"
      },
      "source": [
        "## 난수 생성하기"
      ]
    },
    {
      "cell_type": "code",
      "metadata": {
        "colab": {
          "base_uri": "https://localhost:8080/"
        },
        "id": "zCnydgHPzpj4",
        "outputId": "0b906535-01a2-4e5f-9676-6ca0b5ed1891"
      },
      "source": [
        "# 실습 1-18 \n",
        "# 10~99 사이의 난수 n개 생성하기(13이 나오면 중단)\n",
        "\n",
        "import random   # random 모듈을 불러옴\n",
        "\n",
        "n = int(input('난수의 개수를 입력하세요.: '))\n",
        "\n",
        "for _ in range(n):\n",
        "    r = random.randint(10, 99)     # random 모듈의 randint() 함수 사용\n",
        "                                   # randint(a,b) => a와 b사이의 정수 1개를 랜덤으로 골라서 반환\n",
        "    print(r, end=' ')\n",
        "    if r == 13:     # 무작위로 뽑는 과정에서 13이 생성되면 강제 종료\n",
        "                    # 13이 출력되고 중단됨!!!\n",
        "        print('\\n프로그램을 중단합니다.')\n",
        "        break\n",
        "else :\n",
        "    print('\\n난수 생성을 종료합니다.')"
      ],
      "execution_count": null,
      "outputs": [
        {
          "output_type": "stream",
          "name": "stdout",
          "text": [
            "난수의 개수를 입력하세요.: 100\n",
            "78 32 66 70 21 17 39 41 29 34 81 47 90 29 69 64 66 13 \n",
            "프로그램을 중단합니다.\n"
          ]
        }
      ]
    },
    {
      "cell_type": "markdown",
      "metadata": {
        "id": "QHNP7EpcJTd4"
      },
      "source": [
        "## 반복문 건너뛰기와 여러 범위 스캔하기"
      ]
    },
    {
      "cell_type": "markdown",
      "metadata": {
        "id": "Gc0fZN6gJdW_"
      },
      "source": [
        "for문을 반복하는 과정에서 특정 조건일 때 반복문을 건너뛰도록 만들 수 있다.\n",
        "<br> 예를 들어, 1부터 12까지 출력한다고 했을 때 8을 건너뛰고 출력하고 싶다면 i=8일 때 continue문을 실행하도록 하면 된다."
      ]
    },
    {
      "cell_type": "code",
      "metadata": {
        "colab": {
          "base_uri": "https://localhost:8080/"
        },
        "id": "WbPSZ8122U-g",
        "outputId": "7345af36-d451-48d0-cce5-e297687fa2f4"
      },
      "source": [
        "# 실습 1-19\n",
        "# 1~12까지 8을 건너뛰고 출력하기 1\n",
        "\n",
        "for i in range(1, 13):\n",
        "    if i == 8:      # 8을 출력할 차례가 되면\n",
        "        continue    # continue문을 실행하도록 코드 작성\n",
        "    print(i, end=' ')\n",
        "    \n",
        "print()"
      ],
      "execution_count": null,
      "outputs": [
        {
          "output_type": "stream",
          "name": "stdout",
          "text": [
            "1 2 3 4 5 6 7 9 10 11 12 \n"
          ]
        }
      ]
    },
    {
      "cell_type": "markdown",
      "metadata": {
        "id": "C8KYsLmEKE_2"
      },
      "source": [
        "위의 프로그램은 비효율적이라고 할 수 있다.\n",
        "<br> 왜냐하면 건너뛰는 판단을 하기 위해 비용이 많이 들기 때문이다.\n",
        "<br> 만약 1000까지 출력해야한다면 단 1개의 숫자를 건너뛰게 하기 위해 1000번의 if문(판단)을 실행해야하기 때문이다.\n",
        "\n",
        "※ 비효율적이긴 하지만 만약, 건너뛰어야 하는 값을 모르거나 그 값이 변화한다면 매번 if, continue문을 사용해야 한다."
      ]
    },
    {
      "cell_type": "code",
      "metadata": {
        "id": "4q46GAeTKDqW"
      },
      "source": [
        "# 실습 1-20\n",
        "# 1부터 12까지 8을 건너 뛰고 출력하기 2\n",
        "# 건너뛰어야 하는 숫자를 알 때\n",
        "\n",
        "for i in list(range(1, 8)) + list(range(9, 13)):    # [1, 2, ..., 7] + [9, 10, ..., 13]\n",
        "                                                    # [1, ..., 7, 9, ..., 13]\n",
        "    print(i, end=' ')   # 리스트 안의 원소 하나씩 출력(반복 비용 여전히 발생)\n",
        "print()"
      ],
      "execution_count": null,
      "outputs": []
    },
    {
      "cell_type": "markdown",
      "metadata": {
        "id": "Emgc3mg_LkZU"
      },
      "source": [
        "## (보충) 비교 연산자를 연속으로 사용하는 방법과 드모르간 법칙"
      ]
    },
    {
      "cell_type": "code",
      "metadata": {
        "colab": {
          "base_uri": "https://localhost:8080/"
        },
        "id": "WJQvvEuBLpOZ",
        "outputId": "f0477de4-944e-4582-f51e-9d55dd32b738"
      },
      "source": [
        "# 보충 수업 1-11\n",
        "# 실습 1C-3\n",
        "# 2자리 양수(10 ~ 99) 입력받기\n",
        "\n",
        "print('2자리 양수를 입력하세요.')\n",
        "\n",
        "while True:     # 두자리 숫자를 입력할 때까지 무한루프 실행\n",
        "    no = int(input('값을 입력하세요.: '))\n",
        "    if no >= 10 and no <= 99:   # 입력 숫자가 10이상 99이하이면 무한루프 종료 후 출력\n",
        "        break\n",
        "\n",
        "print(f'입력받은 양수는 {no}입니다.')"
      ],
      "execution_count": null,
      "outputs": [
        {
          "output_type": "stream",
          "name": "stdout",
          "text": [
            "2자리 양수를 입력하세요.\n",
            "값을 입력하세요.: 9\n",
            "값을 입력하세요.: 146\n",
            "값을 입력하세요.: 57\n",
            "입력받은 양수는 57입니다.\n"
          ]
        }
      ]
    },
    {
      "cell_type": "code",
      "metadata": {
        "colab": {
          "base_uri": "https://localhost:8080/"
        },
        "id": "aGm0PY2dMdQP",
        "outputId": "dceb0913-b8c1-4b64-fdc5-ae2e68526d49"
      },
      "source": [
        "# 2자리 양수(10 ~ 99) 입력받기 2\n",
        "\n",
        "print('2자리 양수를 입력하세요.')\n",
        "\n",
        "while True:\n",
        "    no = int(input('값을 입력하세요.: '))\n",
        "    if 10 <= no <= 99:    # 부등식을 and 연산자(비교 연산자) 없이 이렇게도 표현 할 수 있다.\n",
        "        break\n",
        "\n",
        "print(f'입력받은 양수는 {no}입니다.')"
      ],
      "execution_count": null,
      "outputs": [
        {
          "output_type": "stream",
          "name": "stdout",
          "text": [
            "2자리 양수를 입력하세요.\n",
            "값을 입력하세요.: 39\n",
            "입력받은 양수는 39입니다.\n"
          ]
        }
      ]
    },
    {
      "cell_type": "code",
      "metadata": {
        "colab": {
          "base_uri": "https://localhost:8080/"
        },
        "id": "1HaS_wH-MpsQ",
        "outputId": "41f2f48d-15d6-4f2d-e163-f89de677fa69"
      },
      "source": [
        "# 2자리 양수(10~99) 입력받기 3\n",
        "# 드모르간 법칙 사용\n",
        "\n",
        "print('2자리 양수를 입력하세요.')\n",
        "\n",
        "while True:\n",
        "    no = int(input('값을 입력하세요.: '))\n",
        "    if not(no < 10 or no > 99):     # ~(no < 10 or no > 99)\n",
        "                                    # (no > 10 and no < 99) 와 같음\n",
        "        break\n",
        "\n",
        "print(f'입력받은 양수는 {no}입니다.')"
      ],
      "execution_count": null,
      "outputs": [
        {
          "output_type": "stream",
          "name": "stdout",
          "text": [
            "2자리 양수를 입력하세요.\n",
            "값을 입력하세요.: 29\n",
            "입력받은 양수는 29입니다.\n"
          ]
        }
      ]
    },
    {
      "cell_type": "markdown",
      "metadata": {
        "id": "BwmeYS-lNWbE"
      },
      "source": [
        "* 드모르간 법칙(De Morgan's laws)\n",
        "<br> 각 조건을 부정하고 논리곱(or)을 논리합(and)으로, 논리합(and)을 논리곱(or)으로 바꾸고 <br>전체를 부정하면 원래의 조건과 같다."
      ]
    },
    {
      "cell_type": "markdown",
      "metadata": {
        "id": "491v8oPiN3Pq"
      },
      "source": [
        "## 다중 루프 알아보기"
      ]
    },
    {
      "cell_type": "markdown",
      "metadata": {
        "id": "ZXQHjJk6OHgA"
      },
      "source": [
        "* 다중 루프<br> \n",
        "반복문 안에 다시 반복문을 사용하는 반복문"
      ]
    },
    {
      "cell_type": "code",
      "metadata": {
        "colab": {
          "base_uri": "https://localhost:8080/"
        },
        "id": "dWYJwZWgNU7s",
        "outputId": "9ec7e240-d8fe-47f4-b753-86368db0b13e"
      },
      "source": [
        "# 실습 1-21\n",
        "# 구구단 곱셈표 출력하기 (이중 루프)\n",
        "\n",
        "print('-' * 27)\n",
        "for i in range(1, 10):      # 행 루프\n",
        "    for j in range(1, 10):  # 열 루프\n",
        "        print(f'{i * j : 3}', end='')   # :3 => 동일한 간격으로 표시하기 위해 사용\n",
        "    print()                 # 행 변경\n",
        "print('-' * 27)"
      ],
      "execution_count": null,
      "outputs": [
        {
          "output_type": "stream",
          "name": "stdout",
          "text": [
            "---------------------------\n",
            "  1  2  3  4  5  6  7  8  9\n",
            "  2  4  6  8 10 12 14 16 18\n",
            "  3  6  9 12 15 18 21 24 27\n",
            "  4  8 12 16 20 24 28 32 36\n",
            "  5 10 15 20 25 30 35 40 45\n",
            "  6 12 18 24 30 36 42 48 54\n",
            "  7 14 21 28 35 42 49 56 63\n",
            "  8 16 24 32 40 48 56 64 72\n",
            "  9 18 27 36 45 54 63 72 81\n",
            "---------------------------\n"
          ]
        }
      ]
    },
    {
      "cell_type": "markdown",
      "metadata": {
        "id": "FQ9PjRSTOw-a"
      },
      "source": [
        "위의 프로그램 실행 과정\n",
        "> i가 1일 때 : j를 1-9까지 1씩 증가시키면서 1 x j를 3자리로 출력하고 줄 바꿈\n",
        "<br> i가 2일 때 : j를 1-9까지 1씩 증가시키면서 2 x j를 3자리로 출력하고 줄 바꿈\n",
        "<br> ...\n",
        "<br> i가 9일 때 : j를 1-9까지 1씩 증가시키면서 9 x j를 3자리로 출력하고 줄 바꿈\n"
      ]
    },
    {
      "cell_type": "code",
      "metadata": {
        "colab": {
          "base_uri": "https://localhost:8080/"
        },
        "id": "M0KoklG4N_te",
        "outputId": "1eb3924e-916a-4b29-fd94-88b77e07213f"
      },
      "source": [
        "# 실습 1-22\n",
        "# 왼쪽 아래가 직각인 이등변 삼각형 모양으로 * 출력하기\n",
        "\n",
        "print('왼쪽 아래가 직각인 이등변 삼각형을 출력합니다.')\n",
        "n = int(input('짧은 변의 길이를 입력하세요.: '))    # 이등변 삼각형이니까 한 변만 알면 됨\n",
        "\n",
        "for i in range(n):          # 행 루프\n",
        "    for j in range(i + 1):  # 열 루프\n",
        "        print('*', end='')\n",
        "    print()"
      ],
      "execution_count": null,
      "outputs": [
        {
          "output_type": "stream",
          "name": "stdout",
          "text": [
            "왼쪽 아래가 직각인 이등변 삼각형을 출력합니다.\n",
            "짧은 변의 길이를 입력하세요.: 5\n",
            "*\n",
            "**\n",
            "***\n",
            "****\n",
            "*****\n"
          ]
        }
      ]
    },
    {
      "cell_type": "markdown",
      "metadata": {
        "id": "oyGHcbOmQiXa"
      },
      "source": [
        "위의 프로그램 실행 과정\n",
        "> i 가 0 일 때 : j 를 0-0까지 1씩 증가시키면서 ($\\text{*}$)을 출력하고 줄바꿈 ($\\text{*}$)\n",
        "<br> i 가 1 일 때 : j 를 0-1까지 1씩 증가시키면서 ($\\text{*}$)을 출력하고 줄바꿈 ($\\text{**}$)\n",
        "<br> i 가 2 일 때 : j 를 0-2까지 1씩 증가시키면서 ($\\text{*}$)을 출력하고 줄바꿈 ($\\text{***}$)\n",
        "<br> i 가 3 일 때 : j 를 0-3까지 1씩 증가시키면서 ($\\text{*}$)을 출력하고 줄바꿈 ($\\text{****}$)\n",
        "<br> i 가 4 일 때 : j 를 0-4까지 1씩 증가시키면서 ($\\text{*}$)을 출력하고 줄바꿈 ($\\text{*****}$)\n",
        "\n",
        "0 행부터 n-1 행까지 행 루프를 돌면서 i+1 만큼 열 루프로 *을 출력\n"
      ]
    },
    {
      "cell_type": "code",
      "metadata": {
        "colab": {
          "base_uri": "https://localhost:8080/"
        },
        "id": "4w7EUX-9PjFo",
        "outputId": "5dceffe2-1b1c-4cb3-a8e6-d19a7e3dba00"
      },
      "source": [
        "# 실습 1-23\n",
        "# 오른쪽 아래가 직각인 이등변 삼각형으로 * 출력하기\n",
        "\n",
        "print('오른쪽 아래가 직각인 이등변 삼각형을 출력합니다.')\n",
        "n = int(input('짧은 변 길이를 입력하세요.: '))\n",
        "\n",
        "for i in range(n):              # 행 루프\n",
        "    for _ in range(n - i - 1):  # 열 루프(공백 출력)\n",
        "                                # i가 작을수록 공백 출력 개수는 커야함\n",
        "        print(' ', end='')\n",
        "    for _ in range(i + 1):\n",
        "        print('*', end='')      # 열 루프(* 출력)\n",
        "    print()"
      ],
      "execution_count": null,
      "outputs": [
        {
          "output_type": "stream",
          "name": "stdout",
          "text": [
            "오른쪽 아래가 직각인 이등변 삼각형을 출력합니다.\n",
            "짧은 변 길이를 입력하세요.: 5\n",
            "    *\n",
            "   **\n",
            "  ***\n",
            " ****\n",
            "*****\n"
          ]
        }
      ]
    },
    {
      "cell_type": "markdown",
      "metadata": {
        "id": "lkF0p_FRR_BW"
      },
      "source": [
        "실습 1-22와는 달리 오른쪽으로 정렬하여 $\\text{*}$을 나타내야한다. <br> 모든 행에서 공백과 $\\text{*}$의 개수를 합하면 n이라는 것을 생각하자."
      ]
    },
    {
      "cell_type": "markdown",
      "metadata": {
        "id": "phSlhHWuTv_r"
      },
      "source": [
        "## (보충) 파이썬의 변수 알아보기"
      ]
    },
    {
      "cell_type": "markdown",
      "metadata": {
        "id": "KZG-zgF1T6SA"
      },
      "source": [
        "파이썬에서는 데이터, 함수, 클래스, 모듈, 패키지 등을 모두 **객체(object)**로 취급한다.\n",
        "> 모든 객체는\n",
        "1. 메모리를 차지한다.\n",
        "2. 자료형(data type)을 가진다.\n",
        "3. 식별 번호(identity)를 가진다.\n",
        "\n",
        "변수는 객체를 참조하는 객체에 연결된 이름에 불과하다.\n",
        "<br> 그러므로 파이썬에서 변수는 값을 갖지 않는다고 할 수 없다. \n",
        "\n",
        "아래의 실행문을 보고 이해해보자."
      ]
    },
    {
      "cell_type": "code",
      "metadata": {
        "colab": {
          "base_uri": "https://localhost:8080/"
        },
        "id": "XpDQjDOIR5mm",
        "outputId": "ed13d91d-ed3a-4ad5-93ac-f5846b5234ea"
      },
      "source": [
        "n = 17\n",
        "print(id(17))   # 17의 식별 번호\n",
        "print(id(n))    # n의 식별 번호"
      ],
      "execution_count": null,
      "outputs": [
        {
          "output_type": "stream",
          "name": "stdout",
          "text": [
            "94053104311296\n",
            "94053104311296\n"
          ]
        }
      ]
    },
    {
      "cell_type": "markdown",
      "metadata": {
        "id": "ytjYVNE-VLKO"
      },
      "source": [
        "코드의 결과를 보면 17과 n의 식별 번호가 같음을 알 수 있다. <br> 파이썬의 대입 연산자(=)는 값을 복사하는 것이 아니라 어떤 자료형 객체에 이름(변수명)을 부여하는 역할을 한다.\n",
        "\n",
        "그러므로 n=17 이라는 식을 볼 때 '정수 리터럴 17의 식별 번호와 n의 식별 번호가 같다고' 해석하면 된다."
      ]
    },
    {
      "cell_type": "code",
      "metadata": {
        "colab": {
          "base_uri": "https://localhost:8080/"
        },
        "id": "DZd9i-vkVBIb",
        "outputId": "fa27eec9-c1ac-4921-fc46-834ac2760dfd"
      },
      "source": [
        "# 실습 1C-4\n",
        "# 함수의 내부·외부에서 정의한 변수와 객체의 식별 번호를 출력\n",
        "\n",
        "n = 1      # 전역 변수(함수 내부·외부에서 사용)\n",
        "def put_id():\n",
        "    x = 1  # 지역 변수(함수 내부에서만 사용)\n",
        "    print(f'id(x) = {id(x)}')\n",
        "    \n",
        "print(f'id(1) = {id(1)}')\n",
        "print(f'id(n) = {id(n)}')\n",
        "put_id()"
      ],
      "execution_count": null,
      "outputs": [
        {
          "output_type": "stream",
          "name": "stdout",
          "text": [
            "id(1) = 94053104310784\n",
            "id(n) = 94053104310784\n",
            "id(x) = 94053104310784\n"
          ]
        }
      ]
    },
    {
      "cell_type": "markdown",
      "metadata": {
        "id": "5lkPaT3FYXSm"
      },
      "source": [
        "전역 변수(global variable)\n",
        "> 함수 외부에서 정의한 변수\n",
        "<br> 프로그램 전체에서 사용할 수 있다.\n",
        "\n",
        "지역 변수(local variable)\n",
        "> 함수 내부에서 정의한 변수\n",
        "<br> 함수 내부에서만 사용할 수 있다."
      ]
    },
    {
      "cell_type": "markdown",
      "metadata": {
        "id": "i_rLndrCY41W"
      },
      "source": [
        "실습 1C-4의 코드 결과를 보면 전역 변수(n)과 지역 변수(x)의 식별 번호가 int형 객체 1과 같음을 알 수 있다.<br> 이는 전역변수와 지역변수 모두 객체를 참조하는 이름에 불과하다는 것을 뜻한다."
      ]
    },
    {
      "cell_type": "markdown",
      "metadata": {
        "id": "txE6nc1DZc22"
      },
      "source": [
        "함수 내부에 선언한 지역 변수는 함수가 실행될 때 생성되고 종료될 때 소멸하는 C언어와는 달리,<br>파이썬에서는 함수가 시작하고 종료함에 따라 개게가 생성되거나 소멸하지 않는다."
      ]
    },
    {
      "cell_type": "code",
      "metadata": {
        "colab": {
          "base_uri": "https://localhost:8080/"
        },
        "id": "A-JrapxyW_H3",
        "outputId": "6bf9b319-c7bb-4729-caf0-379b23332944"
      },
      "source": [
        "# 실습 1C-5\n",
        "# 1부터 10까지 반복하여 출력하고 식별 번호를 보자\n",
        "\n",
        "for i in range(1, 11):\n",
        "    print(f'i = {i:3}   id(i) = {id(i)}')"
      ],
      "execution_count": null,
      "outputs": [
        {
          "output_type": "stream",
          "name": "stdout",
          "text": [
            "i =   1   id(i) = 94053104310784\n",
            "i =   2   id(i) = 94053104310816\n",
            "i =   3   id(i) = 94053104310848\n",
            "i =   4   id(i) = 94053104310880\n",
            "i =   5   id(i) = 94053104310912\n",
            "i =   6   id(i) = 94053104310944\n",
            "i =   7   id(i) = 94053104310976\n",
            "i =   8   id(i) = 94053104311008\n",
            "i =   9   id(i) = 94053104311040\n",
            "i =  10   id(i) = 94053104311072\n"
          ]
        }
      ]
    },
    {
      "cell_type": "markdown",
      "metadata": {
        "id": "bluzN-A1Z5Ff"
      },
      "source": [
        "결론\n",
        "<br> 객체 10개가 생성되고 이 객체에서 i로 식별 번호를 1개씩 꺼내온다. <br> 따라서 i의 값과 식별 번호 둘 다 갱신 된다는 것을 알 수 있다."
      ]
    },
    {
      "cell_type": "code",
      "metadata": {
        "id": "NePAo-ESZ2Wv"
      },
      "source": [
        ""
      ],
      "execution_count": null,
      "outputs": []
    }
  ]
}